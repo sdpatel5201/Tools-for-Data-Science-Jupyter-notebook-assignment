{
 "cells": [
  {
   "cell_type": "markdown",
   "id": "606950ff",
   "metadata": {},
   "source": [
    "# Data Science Tools and Elements"
   ]
  },
  {
   "cell_type": "markdown",
   "id": "3b5ba2f9",
   "metadata": {},
   "source": [
    "<p>In this notebook, Data Science Tools and Ecosystem are summarized</p>"
   ]
  },
  {
   "cell_type": "markdown",
   "id": "fedf0499",
   "metadata": {},
   "source": [
    "<b>Some of the popular languages that Data Scientists use are:<b>\n",
    "    <ol>\n",
    "        <li>python</li>\n",
    "        <li>R</li>\n",
    "        <li>Julia</li>\n",
    "        <li>Scala</li>\n",
    "        <li>JavaScript</li>\n",
    "    </ol>"
   ]
  },
  {
   "cell_type": "markdown",
   "id": "50d1fe4a",
   "metadata": {},
   "source": [
    "<b>Objectives:</b>\n",
    "    <ul>\n",
    "        <li>List popular languages for Data Science</li>\n",
    "        <li>List popular libraries for Data Science</li>\n",
    "        <li>Creating a table</li>\n",
    "        <li>Doing arithmetic operations</li>\n",
    "    </ul>"
   ]
  },
  {
   "cell_type": "markdown",
   "id": "5bb0160d",
   "metadata": {},
   "source": [
    "<p>Some of the commonly used libraries used by Data Scientists include:</p>\n",
    "  <ol>\n",
    "    <li>Numpy</li>\n",
    "    <li>Pandas</li>\n",
    "    <li>SciPy</li>\n",
    "    <li>Matplotlib</li>\n",
    "    <li>Keras</li>\n",
    "    <li>Tensorflow</li>\n",
    "  </ol>"
   ]
  },
  {
   "cell_type": "markdown",
   "id": "0f72c2cc",
   "metadata": {},
   "source": [
    "|Data Science Tools|\n",
    "|------------------|\n",
    "|Rstudio|\n",
    "|Git|\n",
    "|Github|\n",
    "|Watson Studio|"
   ]
  },
  {
   "cell_type": "markdown",
   "id": "d54b4289",
   "metadata": {},
   "source": [
    "### Below are a few examples of evaluating arithmetic expressions in Python"
   ]
  },
  {
   "cell_type": "code",
   "execution_count": 6,
   "id": "88d3d2a4",
   "metadata": {},
   "outputs": [
    {
     "data": {
      "text/plain": [
       "17"
      ]
     },
     "execution_count": 6,
     "metadata": {},
     "output_type": "execute_result"
    }
   ],
   "source": [
    "(3*4)+5\n",
    "# This a simple arithmetic expression to mutiply then add integers"
   ]
  },
  {
   "cell_type": "code",
   "execution_count": 7,
   "id": "8130b3e9",
   "metadata": {},
   "outputs": [
    {
     "data": {
      "text/plain": [
       "3.3333333333333335"
      ]
     },
     "execution_count": 7,
     "metadata": {},
     "output_type": "execute_result"
    }
   ],
   "source": [
    "(200*60)/3600\n",
    "# This will convert 200 minutes to hours as i have simpilifed minutes into seconds and then solved it."
   ]
  },
  {
   "cell_type": "markdown",
   "id": "9adbc84a",
   "metadata": {},
   "source": [
    "## Author\n",
    "<p> Sujal Donga </p>"
   ]
  },
  {
   "cell_type": "code",
   "execution_count": null,
   "id": "cdf4e911",
   "metadata": {},
   "outputs": [],
   "source": []
  }
 ],
 "metadata": {
  "kernelspec": {
   "display_name": "Python 3 (ipykernel)",
   "language": "python",
   "name": "python3"
  },
  "language_info": {
   "codemirror_mode": {
    "name": "ipython",
    "version": 3
   },
   "file_extension": ".py",
   "mimetype": "text/x-python",
   "name": "python",
   "nbconvert_exporter": "python",
   "pygments_lexer": "ipython3",
   "version": "3.11.0"
  }
 },
 "nbformat": 4,
 "nbformat_minor": 5
}
